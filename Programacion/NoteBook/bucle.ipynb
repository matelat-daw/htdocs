{
 "cells": [
  {
   "cell_type": "code",
   "execution_count": null,
   "metadata": {
    "dotnet_interactive": {
     "language": "csharp"
    },
    "polyglot_notebook": {
     "kernelName": "csharp"
    },
    "vscode": {
     "languageId": "polyglot-notebook"
    }
   },
   "outputs": [],
   "source": []
  },
  {
   "cell_type": "code",
   "execution_count": 4,
   "metadata": {
    "dotnet_interactive": {
     "language": "csharp"
    },
    "polyglot_notebook": {
     "kernelName": "csharp"
    },
    "vscode": {
     "languageId": "polyglot-notebook"
    }
   },
   "outputs": [
    {
     "name": "stdout",
     "output_type": "stream",
     "text": [
      "El Número es: 3\n",
      "El Número es: 7\n",
      "El Número es: 0\n",
      "Salimos del Bucle.\n"
     ]
    }
   ],
   "source": [
    "using Microsoft.DotNet.Interactive;\n",
    "\n",
    "String sNumero;\n",
    "int numero;\n",
    "\n",
    "do\n",
    "{\n",
    "    sNumero = await Kernel.GetInputAsync(\"Introduce un Número Entero Mayor que 0: \");\n",
    "    numero = Convert.ToInt32(sNumero);\n",
    "    Console.WriteLine(\"El Número es: {0}\", numero);\n",
    "}while (numero != 0); // (Se Usa Distinto de 0 por si el Número Ingresado es Negativo)Mientras numero no sea 0 Hace.\n",
    "\n",
    "Console.WriteLine(\"Salimos del Bucle.\");"
   ]
  }
 ],
 "metadata": {
  "language_info": {
   "name": "csharp"
  }
 },
 "nbformat": 4,
 "nbformat_minor": 2
}
