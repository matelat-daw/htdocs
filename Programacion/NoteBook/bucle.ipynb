{
 "cells": [
  {
   "cell_type": "markdown",
   "metadata": {
    "vscode": {
     "languageId": "polyglot-notebook"
    }
   },
   "source": [
    "Ejemplo de Bucle con do while"
   ]
  },
  {
   "cell_type": "code",
   "execution_count": null,
   "metadata": {
    "dotnet_interactive": {
     "language": "csharp"
    },
    "polyglot_notebook": {
     "kernelName": "csharp"
    },
    "vscode": {
     "languageId": "polyglot-notebook"
    }
   },
   "outputs": [],
   "source": [
    "using Microsoft.DotNet.Interactive;\n",
    "\n",
    "String sNumero;\n",
    "int numero;\n",
    "\n",
    "do\n",
    "{\n",
    "    sNumero = await Kernel.GetInputAsync(\"Introduce un Número Entero Mayor que 0: \");\n",
    "    numero = Convert.ToInt32(sNumero);\n",
    "    Console.WriteLine(\"El Número es: {0}\", numero);\n",
    "}while (numero != 0); // (Se Usa Distinto de 0 por si el Número Ingresado es Negativo)Mientras numero no sea 0 Hace.\n",
    "\n",
    "Console.WriteLine(\"Salimos del Bucle.\");"
   ]
  },
  {
   "cell_type": "markdown",
   "metadata": {},
   "source": [
    "Ejemplo de Bulce con while"
   ]
  },
  {
   "cell_type": "code",
   "execution_count": null,
   "metadata": {
    "dotnet_interactive": {
     "language": "csharp"
    },
    "polyglot_notebook": {
     "kernelName": "csharp"
    },
    "vscode": {
     "languageId": "polyglot-notebook"
    }
   },
   "outputs": [],
   "source": [
    "using Microsoft.DotNet.Interactive;\n",
    "\n",
    "String sNumero;\n",
    "int numero = 1; // OJO hay que Inicializar la Variable.\n",
    "\n",
    "while (numero != 0)\n",
    "{\n",
    "    sNumero = await Kernel.GetInputAsync(\"Introduce un Número Entero Mayor que 0: \");\n",
    "    numero = Convert.ToInt32(sNumero);\n",
    "    Console.WriteLine(\"El Número es: {0}\", numero);\n",
    "}\n",
    "\n",
    "Console.WriteLine(\"Salimos del Bucle.\");"
   ]
  },
  {
   "cell_type": "code",
   "execution_count": null,
   "metadata": {
    "dotnet_interactive": {
     "language": "csharp"
    },
    "polyglot_notebook": {
     "kernelName": "csharp"
    },
    "vscode": {
     "languageId": "polyglot-notebook"
    }
   },
   "outputs": [],
   "source": [
    "using Microsoft.DotNet.Interactive;\n",
    "\n",
    "int vueltas; // OJO hay que Inicializar la Variable.\n",
    "int abdominales;\n",
    "int flexiones;\n",
    "int sentadillas;\n",
    "\n",
    "for (vueltas = 0; vueltas < 3; vueltas++)\n",
    "{\n",
    "    Console.WriteLine(\"Haz Hecho: {0} Repeticiones\", vueltas + 1);\n",
    "    Console.WriteLine();\n",
    "\n",
    "    for (abdominales = 0; abdominales < 10; abdominales++)\n",
    "    {\n",
    "        Console.WriteLine(\"Haz Hecho {0} Abdominales\", abdominales + 1);\n",
    "    }\n",
    "\n",
    "    Console.WriteLine();\n",
    "\n",
    "    for (flexiones = 0; flexiones < 10; flexiones++)\n",
    "    {\n",
    "        Console.WriteLine(\"Haz Hecho {0} Flexiones\", flexiones + 1);\n",
    "    }\n",
    "\n",
    "    Console.WriteLine();\n",
    "\n",
    "    for (sentadillas = 0; sentadillas < 5; sentadillas++)\n",
    "    {\n",
    "        Console.WriteLine(\"Haz Hecho {0} Sentadillas\", sentadillas + 1);\n",
    "    }\n",
    "\n",
    "    Console.WriteLine(\"_________________________\");\n",
    "}"
   ]
  }
 ],
 "metadata": {
  "language_info": {
   "name": "csharp"
  }
 },
 "nbformat": 4,
 "nbformat_minor": 2
}
