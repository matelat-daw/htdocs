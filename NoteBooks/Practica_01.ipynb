{
 "cells": [
  {
   "cell_type": "markdown",
   "metadata": {},
   "source": [
    "# Practica tú mismo"
   ]
  },
  {
   "cell_type": "markdown",
   "metadata": {},
   "source": [
    "### Ejercicio 01\n",
    "\n",
    "Cómo terminarías la implementación del siguiente código para que dado un número (supuestamente desconocido) <br/>\n",
    "nos diga cuantas cifras tiene..."
   ]
  },
  {
   "cell_type": "code",
   "execution_count": 6,
   "metadata": {
    "dotnet_interactive": {
     "language": "csharp"
    },
    "polyglot_notebook": {
     "kernelName": "csharp"
    },
    "vscode": {
     "languageId": "polyglot-notebook"
    }
   },
   "outputs": [
    {
     "name": "stdout",
     "output_type": "stream",
     "text": [
      "El numero -54879 tiene 5 dígitos.\r\n"
     ]
    }
   ],
   "source": [
    "using Microsoft.DotNet.Interactive;\n",
    "\n",
    "String sNumero;\n",
    "int numero;\n",
    "int digitos = 0;\n",
    "sNumero = await Kernel.GetInputAsync(\"Introduce un número entero: \");\n",
    "numero = Convert.ToInt32(sNumero);\n",
    "\n",
    "while (numero != 0)\n",
    "{\n",
    "    digitos++;\n",
    "    numero /= 10;\n",
    "}\n",
    "\n",
    "Console.WriteLine(\"El numero {0} tiene {1} dígitos.\",sNumero,digitos);"
   ]
  }
 ],
 "metadata": {
  "kernelspec": {
   "display_name": ".NET (C#)",
   "language": "C#",
   "name": ".net-csharp"
  },
  "language_info": {
   "file_extension": ".cs",
   "mimetype": "text/x-csharp",
   "name": "C#",
   "pygments_lexer": "csharp",
   "version": "11.0"
  },
  "polyglot_notebook": {
   "kernelInfo": {
    "defaultKernelName": "csharp",
    "items": [
     {
      "aliases": [],
      "languageName": "csharp",
      "name": "csharp"
     }
    ]
   }
  }
 },
 "nbformat": 4,
 "nbformat_minor": 2
}
